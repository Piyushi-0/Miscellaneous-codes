{
 "cells": [
  {
   "cell_type": "code",
   "execution_count": 15,
   "metadata": {},
   "outputs": [],
   "source": [
    "import cv2 as cv\n",
    "import numpy as np\n",
    "from datetime import datetime\n",
    "import sys\n",
    "from scipy import signal\n",
    "np.random.seed(1)"
   ]
  },
  {
   "cell_type": "code",
   "execution_count": 18,
   "metadata": {},
   "outputs": [],
   "source": [
    "def myconv2(im_in, kernel):\n",
    "    f=np.rot90(np.rot90(kernel))#flippling kernel\n",
    "\n",
    "    hk, wk=f.shape[0], f.shape[1]#hk: height of kernel, wk: width of kernel\n",
    "    hi, wi=a.shape[0], a.shape[1]#hi: height of image, wi: width of image\n",
    "    \n",
    "    kh=(hk-1)/2 #2*kh+1=height_of_kernel\n",
    "    kw=(wk-1)/2 #2*kw+1=width_of_kernel\n",
    "\n",
    "    ph=kh#padding along height\n",
    "    pw=kw#padding along width\n",
    "    \n",
    "    g2=np.zeros((hi+2*ph, wi+2*pw))\n",
    "    g2[kh:kh+hi, kw:kw+wi]=a[:, :]#new image that we get from padding the old one    \n",
    "    \n",
    "    sh=1#stride along the height\n",
    "    sw=1#stride along the width\n",
    "\n",
    "    h=(hi-hk+2*ph)/sh+1#height after correlation\n",
    "    w=(wi-wk+2*pw)/sw+1#width after correlation\n",
    "    \n",
    "    new=np.zeros((h, w))#new: image after correlation\n",
    "    st=datetime.now()\n",
    "\n",
    "    i_n=0\n",
    "    for i in range(0, h):\n",
    "        j_n=0\n",
    "        for j in range(0, w):\n",
    "            isec=np.zeros((hk, wk))\n",
    "\n",
    "            isec=np.float64(isec)\n",
    "\n",
    "            isec[:,:]=g2[i_n:i_n+hk, j_n:j_n+wk]#image section that will be multiplied with flipped kernel\n",
    "\n",
    "            j_n=j_n+sw#next image section's jth starting location updated according to stride\n",
    "\n",
    "            new[i,j]=(np.multiply(isec[:,:], f[:,:])).sum()#assigning output image's pixel at i,j\n",
    "        i_n=i_n+sh#next image section's ith starting location updated according to stride\n",
    "\n",
    "    et=datetime.now()\n",
    "    print(et-st)#Total time taken\n",
    "    \n",
    "    return new\n",
    "    "
   ]
  }
 ],
 "metadata": {
  "kernelspec": {
   "display_name": "Python 2",
   "language": "python",
   "name": "python2"
  },
  "language_info": {
   "codemirror_mode": {
    "name": "ipython",
    "version": 2
   },
   "file_extension": ".py",
   "mimetype": "text/x-python",
   "name": "python",
   "nbconvert_exporter": "python",
   "pygments_lexer": "ipython2",
   "version": "2.7.15"
  }
 },
 "nbformat": 4,
 "nbformat_minor": 2
}
